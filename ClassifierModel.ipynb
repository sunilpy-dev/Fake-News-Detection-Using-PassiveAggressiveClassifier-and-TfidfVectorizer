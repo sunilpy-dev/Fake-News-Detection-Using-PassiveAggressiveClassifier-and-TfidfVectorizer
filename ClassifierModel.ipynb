{
 "cells": [
  {
   "cell_type": "code",
   "execution_count": 1,
   "metadata": {},
   "outputs": [],
   "source": [
    "import numpy as np \n",
    "import pandas as pd \n",
    "import pickle\n",
    "from sklearn.model_selection import train_test_split\n",
    "from sklearn.feature_extraction.text import TfidfVectorizer\n",
    "from sklearn.linear_model import PassiveAggressiveClassifier\n",
    "from sklearn.metrics import accuracy_score, classification_report, confusion_matrix\n",
    "from sklearn.model_selection import cross_val_score\n",
    "import matplotlib.pyplot as plt\n",
    "import scikitplot.plotters as skplt\n",
    "import warnings"
   ]
  },
  {
   "cell_type": "code",
   "execution_count": 2,
   "metadata": {},
   "outputs": [],
   "source": [
    "def plot_cmat(yte, ypred):\n",
    "    '''Function for plotting confusion matrix'''\n",
    "    skplt.plot_confusion_matrix(yte,ypred)\n",
    "    plt.show()"
   ]
  },
  {
   "cell_type": "code",
   "execution_count": 4,
   "metadata": {},
   "outputs": [
    {
     "data": {
      "text/html": [
       "<div>\n",
       "<style scoped>\n",
       "    .dataframe tbody tr th:only-of-type {\n",
       "        vertical-align: middle;\n",
       "    }\n",
       "\n",
       "    .dataframe tbody tr th {\n",
       "        vertical-align: top;\n",
       "    }\n",
       "\n",
       "    .dataframe thead th {\n",
       "        text-align: right;\n",
       "    }\n",
       "</style>\n",
       "<table border=\"1\" class=\"dataframe\">\n",
       "  <thead>\n",
       "    <tr style=\"text-align: right;\">\n",
       "      <th></th>\n",
       "      <th>text</th>\n",
       "      <th>label</th>\n",
       "    </tr>\n",
       "  </thead>\n",
       "  <tbody>\n",
       "    <tr>\n",
       "      <th>0</th>\n",
       "      <td>Scots GPs told not to meet fever patients as f...</td>\n",
       "      <td>0</td>\n",
       "    </tr>\n",
       "    <tr>\n",
       "      <th>1</th>\n",
       "      <td>Coronavirus : Fighting al - Shabab propaganda ...</td>\n",
       "      <td>0</td>\n",
       "    </tr>\n",
       "    <tr>\n",
       "      <th>2</th>\n",
       "      <td>Engineer fears China virus impact Engineer fea...</td>\n",
       "      <td>0</td>\n",
       "    </tr>\n",
       "    <tr>\n",
       "      <th>3</th>\n",
       "      <td>Coronavirus : South Korean PM vows  swift  act...</td>\n",
       "      <td>0</td>\n",
       "    </tr>\n",
       "    <tr>\n",
       "      <th>4</th>\n",
       "      <td>Finnair issues profit warning over Covid - 19 ...</td>\n",
       "      <td>0</td>\n",
       "    </tr>\n",
       "    <tr>\n",
       "      <th>...</th>\n",
       "      <td>...</td>\n",
       "      <td>...</td>\n",
       "    </tr>\n",
       "    <tr>\n",
       "      <th>48300</th>\n",
       "      <td>Luck? Genetics? Italian island spared from COV...</td>\n",
       "      <td>0</td>\n",
       "    </tr>\n",
       "    <tr>\n",
       "      <th>48301</th>\n",
       "      <td>UN says thousands of anti-Pakistan militants i...</td>\n",
       "      <td>0</td>\n",
       "    </tr>\n",
       "    <tr>\n",
       "      <th>48302</th>\n",
       "      <td>India’s PM to attend temple groundbreaking at ...</td>\n",
       "      <td>0</td>\n",
       "    </tr>\n",
       "    <tr>\n",
       "      <th>48303</th>\n",
       "      <td>Virus adds to deep despair felt by war-weary y...</td>\n",
       "      <td>0</td>\n",
       "    </tr>\n",
       "    <tr>\n",
       "      <th>48304</th>\n",
       "      <td>South Africa warns COVID-19 corruption puts ‘l...</td>\n",
       "      <td>0</td>\n",
       "    </tr>\n",
       "  </tbody>\n",
       "</table>\n",
       "<p>48305 rows × 2 columns</p>\n",
       "</div>"
      ],
      "text/plain": [
       "                                                    text  label\n",
       "0      Scots GPs told not to meet fever patients as f...      0\n",
       "1      Coronavirus : Fighting al - Shabab propaganda ...      0\n",
       "2      Engineer fears China virus impact Engineer fea...      0\n",
       "3      Coronavirus : South Korean PM vows  swift  act...      0\n",
       "4      Finnair issues profit warning over Covid - 19 ...      0\n",
       "...                                                  ...    ...\n",
       "48300  Luck? Genetics? Italian island spared from COV...      0\n",
       "48301  UN says thousands of anti-Pakistan militants i...      0\n",
       "48302  India’s PM to attend temple groundbreaking at ...      0\n",
       "48303  Virus adds to deep despair felt by war-weary y...      0\n",
       "48304  South Africa warns COVID-19 corruption puts ‘l...      0\n",
       "\n",
       "[48305 rows x 2 columns]"
      ]
     },
     "execution_count": 4,
     "metadata": {},
     "output_type": "execute_result"
    }
   ],
   "source": [
    "# Import dataset for training using Pandas\n",
    "news = pd.read_csv('datasets/scraped.csv')\n",
    "text = news['text'].astype('U')\n",
    "label = news['label'].astype('U')\n",
    "\n",
    "news"
   ]
  },
  {
   "cell_type": "code",
   "execution_count": 5,
   "metadata": {},
   "outputs": [
    {
     "name": "stdout",
     "output_type": "stream",
     "text": [
      "        text  label\n",
      "0      False  False\n",
      "1      False  False\n",
      "2      False  False\n",
      "3      False  False\n",
      "4      False  False\n",
      "...      ...    ...\n",
      "48300  False  False\n",
      "48301  False  False\n",
      "48302  False  False\n",
      "48303  False  False\n",
      "48304  False  False\n",
      "\n",
      "[48305 rows x 2 columns]\n"
     ]
    }
   ],
   "source": [
    "# Check if there is any null values in dataset\n",
    "check_nan_in_df = news.isnull()\n",
    "print (check_nan_in_df)"
   ]
  },
  {
   "cell_type": "code",
   "execution_count": 6,
   "metadata": {},
   "outputs": [],
   "source": [
    "# Splitting the dataset into test and train\n",
    "text_train, text_test, label_train, label_test = train_test_split(text, label, test_size=0.25, random_state=7)"
   ]
  },
  {
   "cell_type": "code",
   "execution_count": 7,
   "metadata": {},
   "outputs": [],
   "source": [
    "# Insert spliitted data into TfidfVectorizer and transform shape\n",
    "vectorizer = TfidfVectorizer(stop_words='english', max_df=0.7, lowercase=True)\n",
    "\n",
    "transformed_text_train = vectorizer.fit_transform(text_train)\n",
    "transformed_text_test = vectorizer.transform(text_test)\n",
    "filename_vectorizer = 'TfidfVectorizer-new.sav'\n",
    "pickle.dump(vectorizer, open(filename_vectorizer, 'wb')) # Saving model"
   ]
  },
  {
   "cell_type": "code",
   "execution_count": 8,
   "metadata": {},
   "outputs": [],
   "source": [
    "# Initialize Classifier\n",
    "classifier = PassiveAggressiveClassifier(max_iter=100, warm_start=True)\n",
    "\n",
    "classifier.fit(transformed_text_train, label_train)\n",
    "\n",
    "# Start Predict\n",
    "predict = classifier.predict(transformed_text_test)\n",
    "\n",
    "filename = 'ClassifierModel-new.sav'\n",
    "pickle.dump(classifier, open(filename, 'wb')) # Saving model"
   ]
  },
  {
   "cell_type": "code",
   "execution_count": 9,
   "metadata": {},
   "outputs": [
    {
     "name": "stdout",
     "output_type": "stream",
     "text": [
      "Accuracy Score: 94.33%\n",
      "K Fold Accuracy: 80.52%\n",
      "\n",
      "Classification Report\n",
      "              precision    recall  f1-score   support\n",
      "\n",
      "           0       0.95      0.94      0.94      6247\n",
      "           1       0.93      0.95      0.94      5830\n",
      "\n",
      "    accuracy                           0.94     12077\n",
      "   macro avg       0.94      0.94      0.94     12077\n",
      "weighted avg       0.94      0.94      0.94     12077\n",
      "\n",
      "\n",
      "Confusion Matrix\n"
     ]
    },
    {
     "name": "stderr",
     "output_type": "stream",
     "text": [
      "C:\\Users\\Mukesh kushwaha\\AppData\\Local\\Programs\\Python\\Python311\\Lib\\site-packages\\sklearn\\utils\\deprecation.py:95: FutureWarning: Function plot_confusion_matrix is deprecated; This will be removed in v0.4.0. Please use scikitplot.metrics.plot_confusion_matrix instead.\n",
      "  warnings.warn(msg, category=FutureWarning)\n"
     ]
    },
    {
     "data": {
      "image/png": "[encoded data removed]",
      "text/plain": [
       "<Figure size 640x480 with 2 Axes>"
      ]
     },
     "metadata": {},
     "output_type": "display_data"
    }
   ],
   "source": [
    "# Get Accuracy Score\n",
    "score = accuracy_score(label_test, predict)\n",
    "print(\"Accuracy Score: %.2f%%\" % (score*100)) # Show Accuracy Score\n",
    "\n",
    "X = vectorizer.transform(news['text'].astype('U'))\n",
    "kscore = cross_val_score(classifier, X, news['label'].values, cv=5)\n",
    "print(f'K Fold Accuracy: {round(kscore.mean()*100,2)}%') # Show K-Fold Accuracy Score\n",
    "\n",
    "print(\"\\nClassification Report\")\n",
    "print(classification_report(label_test, predict)) # Show Classification Report\n",
    "\n",
    "print(\"\\nConfusion Matrix\")\n",
    "plot_cmat(label_test, predict) # Show Confusion Matrix"
   ]
  },
  {
   "cell_type": "code",
   "execution_count": 13,
   "metadata": {},
   "outputs": [],
   "source": [
    "## Further Validation using new dataset ##\n",
    "\n",
    "# Read from new dataset\n",
    "df_true = pd.read_csv('datasets/True.csv')\n",
    "df_true['label'] = 'Real'\n",
    "df_true_rep=[df_true['text'][i].replace('WASHINGTON (Reuters) - ','').replace('LONDON (Reuters) - ','').replace('(Reuters) - ','') for i in range(len(df_true['text']))]\n",
    "df_true['text'] = df_true_rep\n",
    "df_fake = pd.read_csv('datasets/Fake.csv')\n",
    "df_fake['label'] = 'Fake'"
   ]
  },
  {
   "cell_type": "code",
   "execution_count": 14,
   "metadata": {},
   "outputs": [],
   "source": [
    "# Function to find label for news in dataset\n",
    "def findlabel(newtext):\n",
    "    vec_newtest = vectorizer.transform([newtext])\n",
    "    test_predict = classifier.predict(vec_newtest)\n",
    "    return test_predict[0]"
   ]
  },
  {
   "cell_type": "code",
   "execution_count": 15,
   "metadata": {},
   "outputs": [
    {
     "name": "stdout",
     "output_type": "stream",
     "text": [
      "70.00%\n"
     ]
    }
   ],
   "source": [
    "# Run test dataset\n",
    "true_accuracy = sum([1 if findlabel((df_true['text'][i]))=='0' else 0 for i in range(len(df_true['text']))])/df_true['text'].size\n",
    "fake_accuracy = sum([1 if findlabel((df_fake['text'][i]))=='1' else 0 for i in range(len(df_fake['text']))])/df_fake['text'].size\n",
    "\n",
    "avg_accuracy = ((true_accuracy + fake_accuracy)/2)\n",
    "print(\"{:.2%}\".format(round(avg_accuracy, 2))) # Print average accuracy score on new validation dataset"
   ]
  },
  {
   "cell_type": "code",
   "execution_count": null,
   "metadata": {},
   "outputs": [],
   "source": []
  }
 ],
 "metadata": {
  "kernelspec": {
   "display_name": "Python 3.11 (Custom)",
   "language": "python",
   "name": "python311"
  },
  "language_info": {
   "codemirror_mode": {
    "name": "ipython",
    "version": 3
   },
   "file_extension": ".py",
   "mimetype": "text/x-python",
   "name": "python",
   "nbconvert_exporter": "python",
   "pygments_lexer": "ipython3",
   "version": "3.11.0"
  }
 },
 "nbformat": 4,
 "nbformat_minor": 4
}
